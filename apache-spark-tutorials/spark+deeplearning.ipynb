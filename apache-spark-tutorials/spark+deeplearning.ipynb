{
 "cells": [
  {
   "cell_type": "code",
   "execution_count": 1,
   "metadata": {
    "collapsed": true
   },
   "outputs": [],
   "source": [
    "import os\n",
    "os.environ['PYSPARK_SUBMIT_ARGS'] = \"--packages=databricks:spark-deep-learning:1.5.0-spark2.4-s_2.11 pyspark-shell\""
   ]
  },
  {
   "cell_type": "code",
   "execution_count": 2,
   "metadata": {
    "collapsed": true
   },
   "outputs": [],
   "source": [
    "from pyspark.context import SparkContext\n",
    "from pyspark.sql.session import SparkSession\n",
    "\n",
    "sc = SparkContext('local')\n",
    "spark = SparkSession(sc)"
   ]
  },
  {
   "cell_type": "code",
   "execution_count": 3,
   "metadata": {},
   "outputs": [
    {
     "data": {
      "text/html": [
       "<div>\n",
       "<style scoped>\n",
       "    .dataframe tbody tr th:only-of-type {\n",
       "        vertical-align: middle;\n",
       "    }\n",
       "\n",
       "    .dataframe tbody tr th {\n",
       "        vertical-align: top;\n",
       "    }\n",
       "\n",
       "    .dataframe thead th {\n",
       "        text-align: right;\n",
       "    }\n",
       "</style>\n",
       "<table border=\"1\" class=\"dataframe\">\n",
       "  <thead>\n",
       "    <tr style=\"text-align: right;\">\n",
       "      <th></th>\n",
       "      <th>image</th>\n",
       "    </tr>\n",
       "  </thead>\n",
       "  <tbody>\n",
       "    <tr>\n",
       "      <th>0</th>\n",
       "      <td>(file:/Users/agnieszkabiernacka/Desktop/git/Da...</td>\n",
       "    </tr>\n",
       "    <tr>\n",
       "      <th>1</th>\n",
       "      <td>(file:/Users/agnieszkabiernacka/Desktop/git/Da...</td>\n",
       "    </tr>\n",
       "    <tr>\n",
       "      <th>2</th>\n",
       "      <td>(file:/Users/agnieszkabiernacka/Desktop/git/Da...</td>\n",
       "    </tr>\n",
       "  </tbody>\n",
       "</table>\n",
       "</div>"
      ],
      "text/plain": [
       "                                               image\n",
       "0  (file:/Users/agnieszkabiernacka/Desktop/git/Da...\n",
       "1  (file:/Users/agnieszkabiernacka/Desktop/git/Da...\n",
       "2  (file:/Users/agnieszkabiernacka/Desktop/git/Da..."
      ]
     },
     "execution_count": 3,
     "metadata": {},
     "output_type": "execute_result"
    }
   ],
   "source": [
    "from pyspark.ml.image import ImageSchema\n",
    "image_df = ImageSchema.readImages(\"images\")\n",
    "image_df.toPandas()"
   ]
  },
  {
   "cell_type": "code",
   "execution_count": 4,
   "metadata": {
    "collapsed": true
   },
   "outputs": [],
   "source": [
    "image_df = ImageSchema.readImages(\"images\")"
   ]
  },
  {
   "cell_type": "markdown",
   "metadata": {
    "collapsed": true
   },
   "source": [
    "## Transfer learning"
   ]
  },
  {
   "cell_type": "code",
   "execution_count": 5,
   "metadata": {
    "collapsed": true
   },
   "outputs": [],
   "source": [
    "from pyspark.sql.functions import *\n",
    "tulips_df = ImageSchema.readImages(\"flower_photos/tulips\").withColumn(\"label\", lit(1)).limit(10)\n",
    "roses_df = ImageSchema.readImages(\"flower_photos/roses\").withColumn(\"label\", lit(0)).limit(10)\n"
   ]
  },
  {
   "cell_type": "code",
   "execution_count": 6,
   "metadata": {},
   "outputs": [],
   "source": [
    "\n",
    "tulips_train, tulips_test, _ = tulips_df.randomSplit([0.6, 0.3, 0.1])  # use larger training sets (e.g. [0.6, 0.4] for non-community edition clusters)\n",
    "roses_train, roses_test, _ = roses_df.randomSplit([0.6, 0.3, 0.1])     # use larger training sets (e.g. [0.6, 0.4] for non-community edition clusters)\n",
    "train_df = tulips_train.unionAll(roses_train)\n",
    "test_df = tulips_test.unionAll(roses_test)\n",
    "\n",
    "# Under the hood, each of the partitions is fully loaded in memory, which may be expensive.\n",
    "# This ensure that each of the paritions has a small size.\n",
    "train_df = train_df.repartition(100)\n",
    "test_df = test_df.repartition(100)"
   ]
  },
  {
   "cell_type": "code",
   "execution_count": 7,
   "metadata": {},
   "outputs": [
    {
     "name": "stderr",
     "output_type": "stream",
     "text": [
      "/Users/agnieszkabiernacka/.local/lib/python3.6/site-packages/tensorflow/python/framework/dtypes.py:516: FutureWarning: Passing (type, 1) or '1type' as a synonym of type is deprecated; in a future version of numpy, it will be understood as (type, (1,)) / '(1,)type'.\n",
      "  _np_qint8 = np.dtype([(\"qint8\", np.int8, 1)])\n",
      "/Users/agnieszkabiernacka/.local/lib/python3.6/site-packages/tensorflow/python/framework/dtypes.py:517: FutureWarning: Passing (type, 1) or '1type' as a synonym of type is deprecated; in a future version of numpy, it will be understood as (type, (1,)) / '(1,)type'.\n",
      "  _np_quint8 = np.dtype([(\"quint8\", np.uint8, 1)])\n",
      "/Users/agnieszkabiernacka/.local/lib/python3.6/site-packages/tensorflow/python/framework/dtypes.py:518: FutureWarning: Passing (type, 1) or '1type' as a synonym of type is deprecated; in a future version of numpy, it will be understood as (type, (1,)) / '(1,)type'.\n",
      "  _np_qint16 = np.dtype([(\"qint16\", np.int16, 1)])\n",
      "/Users/agnieszkabiernacka/.local/lib/python3.6/site-packages/tensorflow/python/framework/dtypes.py:519: FutureWarning: Passing (type, 1) or '1type' as a synonym of type is deprecated; in a future version of numpy, it will be understood as (type, (1,)) / '(1,)type'.\n",
      "  _np_quint16 = np.dtype([(\"quint16\", np.uint16, 1)])\n",
      "/Users/agnieszkabiernacka/.local/lib/python3.6/site-packages/tensorflow/python/framework/dtypes.py:520: FutureWarning: Passing (type, 1) or '1type' as a synonym of type is deprecated; in a future version of numpy, it will be understood as (type, (1,)) / '(1,)type'.\n",
      "  _np_qint32 = np.dtype([(\"qint32\", np.int32, 1)])\n",
      "/Users/agnieszkabiernacka/.local/lib/python3.6/site-packages/tensorflow/python/framework/dtypes.py:525: FutureWarning: Passing (type, 1) or '1type' as a synonym of type is deprecated; in a future version of numpy, it will be understood as (type, (1,)) / '(1,)type'.\n",
      "  np_resource = np.dtype([(\"resource\", np.ubyte, 1)])\n",
      "/Users/agnieszkabiernacka/.local/lib/python3.6/site-packages/tensorboard/compat/tensorflow_stub/dtypes.py:541: FutureWarning: Passing (type, 1) or '1type' as a synonym of type is deprecated; in a future version of numpy, it will be understood as (type, (1,)) / '(1,)type'.\n",
      "  _np_qint8 = np.dtype([(\"qint8\", np.int8, 1)])\n",
      "/Users/agnieszkabiernacka/.local/lib/python3.6/site-packages/tensorboard/compat/tensorflow_stub/dtypes.py:542: FutureWarning: Passing (type, 1) or '1type' as a synonym of type is deprecated; in a future version of numpy, it will be understood as (type, (1,)) / '(1,)type'.\n",
      "  _np_quint8 = np.dtype([(\"quint8\", np.uint8, 1)])\n",
      "/Users/agnieszkabiernacka/.local/lib/python3.6/site-packages/tensorboard/compat/tensorflow_stub/dtypes.py:543: FutureWarning: Passing (type, 1) or '1type' as a synonym of type is deprecated; in a future version of numpy, it will be understood as (type, (1,)) / '(1,)type'.\n",
      "  _np_qint16 = np.dtype([(\"qint16\", np.int16, 1)])\n",
      "/Users/agnieszkabiernacka/.local/lib/python3.6/site-packages/tensorboard/compat/tensorflow_stub/dtypes.py:544: FutureWarning: Passing (type, 1) or '1type' as a synonym of type is deprecated; in a future version of numpy, it will be understood as (type, (1,)) / '(1,)type'.\n",
      "  _np_quint16 = np.dtype([(\"quint16\", np.uint16, 1)])\n",
      "/Users/agnieszkabiernacka/.local/lib/python3.6/site-packages/tensorboard/compat/tensorflow_stub/dtypes.py:545: FutureWarning: Passing (type, 1) or '1type' as a synonym of type is deprecated; in a future version of numpy, it will be understood as (type, (1,)) / '(1,)type'.\n",
      "  _np_qint32 = np.dtype([(\"qint32\", np.int32, 1)])\n",
      "/Users/agnieszkabiernacka/.local/lib/python3.6/site-packages/tensorboard/compat/tensorflow_stub/dtypes.py:550: FutureWarning: Passing (type, 1) or '1type' as a synonym of type is deprecated; in a future version of numpy, it will be understood as (type, (1,)) / '(1,)type'.\n",
      "  np_resource = np.dtype([(\"resource\", np.ubyte, 1)])\n",
      "Using TensorFlow backend.\n"
     ]
    }
   ],
   "source": [
    "from pyspark.ml.classification import LogisticRegression\n",
    "from pyspark.ml import Pipeline\n",
    "from sparkdl import DeepImageFeaturizer \n",
    "\n",
    "featurizer = DeepImageFeaturizer(inputCol=\"image\", outputCol=\"features\", modelName=\"InceptionV3\")\n",
    "lr = LogisticRegression(maxIter=5, regParam=0.05, elasticNetParam=0.3, labelCol=\"label\")\n",
    "p = Pipeline(stages=[featurizer, lr])\n",
    "\n",
    "p_model = p.fit(train_df)"
   ]
  },
  {
   "cell_type": "code",
   "execution_count": 8,
   "metadata": {},
   "outputs": [
    {
     "name": "stdout",
     "output_type": "stream",
     "text": [
      "Test set accuracy = 0.7\n"
     ]
    }
   ],
   "source": [
    "from pyspark.ml.evaluation import MulticlassClassificationEvaluator\n",
    "\n",
    "tested_df = p_model.transform(test_df)\n",
    "evaluator = MulticlassClassificationEvaluator(metricName=\"accuracy\")\n",
    "print(\"Test set accuracy = \" + str(evaluator.evaluate(tested_df.select(\"prediction\", \"label\"))))"
   ]
  },
  {
   "cell_type": "code",
   "execution_count": 9,
   "metadata": {},
   "outputs": [
    {
     "data": {
      "text/html": [
       "<div>\n",
       "<style scoped>\n",
       "    .dataframe tbody tr th:only-of-type {\n",
       "        vertical-align: middle;\n",
       "    }\n",
       "\n",
       "    .dataframe tbody tr th {\n",
       "        vertical-align: top;\n",
       "    }\n",
       "\n",
       "    .dataframe thead th {\n",
       "        text-align: right;\n",
       "    }\n",
       "</style>\n",
       "<table border=\"1\" class=\"dataframe\">\n",
       "  <thead>\n",
       "    <tr style=\"text-align: right;\">\n",
       "      <th></th>\n",
       "      <th>image</th>\n",
       "      <th>label</th>\n",
       "      <th>features</th>\n",
       "      <th>rawPrediction</th>\n",
       "      <th>probability</th>\n",
       "      <th>prediction</th>\n",
       "    </tr>\n",
       "  </thead>\n",
       "  <tbody>\n",
       "    <tr>\n",
       "      <th>0</th>\n",
       "      <td>(file:/Users/agnieszkabiernacka/Desktop/git/Da...</td>\n",
       "      <td>1</td>\n",
       "      <td>[0.2271287590265274, 0.0, 0.0, 0.0, 0.0, 0.0, ...</td>\n",
       "      <td>[-2.1270269158902897, 2.1270269158902897]</td>\n",
       "      <td>[0.10649756717954208, 0.8935024328204579]</td>\n",
       "      <td>1.0</td>\n",
       "    </tr>\n",
       "    <tr>\n",
       "      <th>1</th>\n",
       "      <td>(file:/Users/agnieszkabiernacka/Desktop/git/Da...</td>\n",
       "      <td>1</td>\n",
       "      <td>[0.2719690799713135, 0.5799758434295654, 0.0, ...</td>\n",
       "      <td>[-2.091161151399062, 2.091161151399062]</td>\n",
       "      <td>[0.10995888340422419, 0.8900411165957758]</td>\n",
       "      <td>1.0</td>\n",
       "    </tr>\n",
       "    <tr>\n",
       "      <th>2</th>\n",
       "      <td>(file:/Users/agnieszkabiernacka/Desktop/git/Da...</td>\n",
       "      <td>1</td>\n",
       "      <td>[0.42978203296661377, 0.0, 0.19137954711914062...</td>\n",
       "      <td>[-1.7315559533843232, 1.7315559533843232]</td>\n",
       "      <td>[0.1503886644381542, 0.8496113355618459]</td>\n",
       "      <td>1.0</td>\n",
       "    </tr>\n",
       "    <tr>\n",
       "      <th>3</th>\n",
       "      <td>(file:/Users/agnieszkabiernacka/Desktop/git/Da...</td>\n",
       "      <td>1</td>\n",
       "      <td>[0.0, 0.0, 0.0, 0.518147349357605, 0.0, 0.0, 0...</td>\n",
       "      <td>[-27.620443125823375, 27.620443125823375]</td>\n",
       "      <td>[1.0106341348329834e-12, 0.9999999999989895]</td>\n",
       "      <td>1.0</td>\n",
       "    </tr>\n",
       "    <tr>\n",
       "      <th>4</th>\n",
       "      <td>(file:/Users/agnieszkabiernacka/Desktop/git/Da...</td>\n",
       "      <td>1</td>\n",
       "      <td>[0.0, 0.2156921923160553, 0.6671097278594971, ...</td>\n",
       "      <td>[-17.192780406046005, 17.192780406046005]</td>\n",
       "      <td>[3.4140535298693253e-08, 0.9999999658594647]</td>\n",
       "      <td>1.0</td>\n",
       "    </tr>\n",
       "    <tr>\n",
       "      <th>5</th>\n",
       "      <td>(file:/Users/agnieszkabiernacka/Desktop/git/Da...</td>\n",
       "      <td>0</td>\n",
       "      <td>[0.7097122073173523, 0.07345157861709595, 0.26...</td>\n",
       "      <td>[-469.9846518379927, 469.9846518379927]</td>\n",
       "      <td>[7.731417527395182e-205, 1.0]</td>\n",
       "      <td>1.0</td>\n",
       "    </tr>\n",
       "    <tr>\n",
       "      <th>6</th>\n",
       "      <td>(file:/Users/agnieszkabiernacka/Desktop/git/Da...</td>\n",
       "      <td>0</td>\n",
       "      <td>[0.0, 0.3295484185218811, 1.0895251035690308, ...</td>\n",
       "      <td>[0.01773589645516419, -0.01773589645516419]</td>\n",
       "      <td>[0.5044338578874581, 0.49556614211254185]</td>\n",
       "      <td>0.0</td>\n",
       "    </tr>\n",
       "    <tr>\n",
       "      <th>7</th>\n",
       "      <td>(file:/Users/agnieszkabiernacka/Desktop/git/Da...</td>\n",
       "      <td>0</td>\n",
       "      <td>[0.7112337946891785, 0.0, 0.3489874005317688, ...</td>\n",
       "      <td>[-7.70352164348588, 7.70352164348588]</td>\n",
       "      <td>[0.0004510317702174508, 0.9995489682297825]</td>\n",
       "      <td>1.0</td>\n",
       "    </tr>\n",
       "    <tr>\n",
       "      <th>8</th>\n",
       "      <td>(file:/Users/agnieszkabiernacka/Desktop/git/Da...</td>\n",
       "      <td>0</td>\n",
       "      <td>[0.0, 0.0, 0.0, 0.6153160333633423, 0.0, 0.0, ...</td>\n",
       "      <td>[1.0048001739756212, -1.0048001739756212]</td>\n",
       "      <td>[0.732001302709658, 0.2679986972903419]</td>\n",
       "      <td>0.0</td>\n",
       "    </tr>\n",
       "    <tr>\n",
       "      <th>9</th>\n",
       "      <td>(file:/Users/agnieszkabiernacka/Desktop/git/Da...</td>\n",
       "      <td>0</td>\n",
       "      <td>[0.0, 0.27889925241470337, 0.07056798785924911...</td>\n",
       "      <td>[-202.93339892805423, 202.93339892805423]</td>\n",
       "      <td>[7.364523488877299e-89, 1.0]</td>\n",
       "      <td>1.0</td>\n",
       "    </tr>\n",
       "  </tbody>\n",
       "</table>\n",
       "</div>"
      ],
      "text/plain": [
       "                                               image  label  \\\n",
       "0  (file:/Users/agnieszkabiernacka/Desktop/git/Da...      1   \n",
       "1  (file:/Users/agnieszkabiernacka/Desktop/git/Da...      1   \n",
       "2  (file:/Users/agnieszkabiernacka/Desktop/git/Da...      1   \n",
       "3  (file:/Users/agnieszkabiernacka/Desktop/git/Da...      1   \n",
       "4  (file:/Users/agnieszkabiernacka/Desktop/git/Da...      1   \n",
       "5  (file:/Users/agnieszkabiernacka/Desktop/git/Da...      0   \n",
       "6  (file:/Users/agnieszkabiernacka/Desktop/git/Da...      0   \n",
       "7  (file:/Users/agnieszkabiernacka/Desktop/git/Da...      0   \n",
       "8  (file:/Users/agnieszkabiernacka/Desktop/git/Da...      0   \n",
       "9  (file:/Users/agnieszkabiernacka/Desktop/git/Da...      0   \n",
       "\n",
       "                                            features  \\\n",
       "0  [0.2271287590265274, 0.0, 0.0, 0.0, 0.0, 0.0, ...   \n",
       "1  [0.2719690799713135, 0.5799758434295654, 0.0, ...   \n",
       "2  [0.42978203296661377, 0.0, 0.19137954711914062...   \n",
       "3  [0.0, 0.0, 0.0, 0.518147349357605, 0.0, 0.0, 0...   \n",
       "4  [0.0, 0.2156921923160553, 0.6671097278594971, ...   \n",
       "5  [0.7097122073173523, 0.07345157861709595, 0.26...   \n",
       "6  [0.0, 0.3295484185218811, 1.0895251035690308, ...   \n",
       "7  [0.7112337946891785, 0.0, 0.3489874005317688, ...   \n",
       "8  [0.0, 0.0, 0.0, 0.6153160333633423, 0.0, 0.0, ...   \n",
       "9  [0.0, 0.27889925241470337, 0.07056798785924911...   \n",
       "\n",
       "                                 rawPrediction  \\\n",
       "0    [-2.1270269158902897, 2.1270269158902897]   \n",
       "1      [-2.091161151399062, 2.091161151399062]   \n",
       "2    [-1.7315559533843232, 1.7315559533843232]   \n",
       "3    [-27.620443125823375, 27.620443125823375]   \n",
       "4    [-17.192780406046005, 17.192780406046005]   \n",
       "5      [-469.9846518379927, 469.9846518379927]   \n",
       "6  [0.01773589645516419, -0.01773589645516419]   \n",
       "7        [-7.70352164348588, 7.70352164348588]   \n",
       "8    [1.0048001739756212, -1.0048001739756212]   \n",
       "9    [-202.93339892805423, 202.93339892805423]   \n",
       "\n",
       "                                    probability  prediction  \n",
       "0     [0.10649756717954208, 0.8935024328204579]         1.0  \n",
       "1     [0.10995888340422419, 0.8900411165957758]         1.0  \n",
       "2      [0.1503886644381542, 0.8496113355618459]         1.0  \n",
       "3  [1.0106341348329834e-12, 0.9999999999989895]         1.0  \n",
       "4  [3.4140535298693253e-08, 0.9999999658594647]         1.0  \n",
       "5                 [7.731417527395182e-205, 1.0]         1.0  \n",
       "6     [0.5044338578874581, 0.49556614211254185]         0.0  \n",
       "7   [0.0004510317702174508, 0.9995489682297825]         1.0  \n",
       "8       [0.732001302709658, 0.2679986972903419]         0.0  \n",
       "9                  [7.364523488877299e-89, 1.0]         1.0  "
      ]
     },
     "execution_count": 9,
     "metadata": {},
     "output_type": "execute_result"
    }
   ],
   "source": [
    "tested_df.toPandas()"
   ]
  },
  {
   "cell_type": "markdown",
   "metadata": {},
   "source": [
    "## Learning"
   ]
  },
  {
   "cell_type": "code",
   "execution_count": 10,
   "metadata": {},
   "outputs": [],
   "source": [
    "import PIL.Image\n",
    "import numpy as np\n",
    "from keras.applications.imagenet_utils import preprocess_input\n",
    "from sparkdl.estimators.keras_image_file_estimator import KerasImageFileEstimator\n",
    "\n",
    "def load_image_from_uri(local_uri):\n",
    "    img = (PIL.Image.open(local_uri).convert('RGB').resize((299, 299), PIL.Image.ANTIALIAS))\n",
    "    img_arr = np.array(img).astype(np.float32)\n",
    "    img_tnsr = preprocess_input(img_arr[np.newaxis, :])\n",
    "    return img_tnsr"
   ]
  },
  {
   "cell_type": "code",
   "execution_count": 11,
   "metadata": {},
   "outputs": [],
   "source": [
    "from keras.layers import Activation, Dense, Flatten\n",
    "from keras.models import Sequential\n",
    "\n",
    "model = Sequential()\n",
    "model.add(Flatten(input_shape=(299, 299, 3)))\n",
    "model.add(Dense(2))\n",
    "model.add(Activation(\"softmax\"))\n",
    "model.save('model-full.h5')"
   ]
  },
  {
   "cell_type": "code",
   "execution_count": 12,
   "metadata": {
    "collapsed": true
   },
   "outputs": [],
   "source": [
    "estimator = KerasImageFileEstimator( inputCol=\"uri\",\n",
    "                                     outputCol=\"prediction\",\n",
    "                                     labelCol=\"one_hot_label\",\n",
    "                                     imageLoader=load_image_from_uri,\n",
    "                                     kerasOptimizer='adam',\n",
    "                                     kerasLoss='categorical_crossentropy',\n",
    "                                     modelFile='model-full.h5' # local file path for model\n",
    "                                   ) "
   ]
  },
  {
   "cell_type": "code",
   "execution_count": 14,
   "metadata": {},
   "outputs": [],
   "source": [
    "from pyspark.ml.evaluation import BinaryClassificationEvaluator\n",
    "from pyspark.ml.tuning import CrossValidator, ParamGridBuilder\n",
    "\n",
    "paramGrid = (\n",
    "  ParamGridBuilder()\n",
    "  .addGrid(estimator.kerasFitParams, [{\"batch_size\": 32, \"verbose\": 0},\n",
    "                                      {\"batch_size\": 64, \"verbose\": 0}])\n",
    "  .build()\n",
    ")\n",
    "bc = BinaryClassificationEvaluator(rawPredictionCol=\"prediction\", labelCol=\"label\" )\n",
    "cv = CrossValidator(estimator=estimator, estimatorParamMaps=paramGrid, evaluator=bc, numFolds=2)\n"
   ]
  },
  {
   "cell_type": "code",
   "execution_count": 15,
   "metadata": {},
   "outputs": [],
   "source": [
    "\n",
    "train_df = spark.createDataFrame([\n",
    "    (\"flower_photos/tulips/10791227_7168491604.jpg\", 1),\n",
    "    (\"flower_photos/tulips/11746080_963537acdc.jpg\", 1),\n",
    "    (\"flower_photos/tulips/11746276_de3dec8201.jpg\", 2),\n",
    "    (\"flower_photos/tulips/11746367_d23a35b085_n.jpg\", 2),\n",
    "    (\"flower_photos/roses/12240303_80d87f77a3_n.jpg\", 0),\n",
    "    (\"flower_photos/roses/22679076_bdb4c24401_m.jpg\", 0),\n",
    "    (\"flower_photos/roses/24781114_bc83aa811e_n.jpg\", 0)\n",
    "], [\"uri\", \"label\"])"
   ]
  },
  {
   "cell_type": "code",
   "execution_count": 16,
   "metadata": {},
   "outputs": [],
   "source": [
    "test_df = spark.createDataFrame([\n",
    "    (\"flower_photos/tulips/10791227_7168491604.jpg\", 1),\n",
    "    (\"flower_photos/roses/24781114_bc83aa811e_n.jpg\", 0)\n",
    "], [\"uri\", \"label\"])"
   ]
  },
  {
   "cell_type": "code",
   "execution_count": 17,
   "metadata": {},
   "outputs": [],
   "source": [
    "from pyspark.ml.feature import OneHotEncoderEstimator\n",
    "\n",
    "oh_encoder = OneHotEncoderEstimator(inputCols=[\"label\"],\n",
    "                                 outputCols=[\"one_hot_label\"])\n",
    "oh_model = oh_encoder.fit(train_df)"
   ]
  },
  {
   "cell_type": "code",
   "execution_count": 18,
   "metadata": {
    "collapsed": true
   },
   "outputs": [],
   "source": [
    "\n",
    "train_df = oh_model.transform(train_df)\n",
    "test_df = oh_model.transform(test_df)"
   ]
  },
  {
   "cell_type": "code",
   "execution_count": 19,
   "metadata": {},
   "outputs": [
    {
     "data": {
      "text/html": [
       "<div>\n",
       "<style scoped>\n",
       "    .dataframe tbody tr th:only-of-type {\n",
       "        vertical-align: middle;\n",
       "    }\n",
       "\n",
       "    .dataframe tbody tr th {\n",
       "        vertical-align: top;\n",
       "    }\n",
       "\n",
       "    .dataframe thead th {\n",
       "        text-align: right;\n",
       "    }\n",
       "</style>\n",
       "<table border=\"1\" class=\"dataframe\">\n",
       "  <thead>\n",
       "    <tr style=\"text-align: right;\">\n",
       "      <th></th>\n",
       "      <th>uri</th>\n",
       "      <th>label</th>\n",
       "      <th>one_hot_label</th>\n",
       "    </tr>\n",
       "  </thead>\n",
       "  <tbody>\n",
       "    <tr>\n",
       "      <th>0</th>\n",
       "      <td>flower_photos/tulips/10791227_7168491604.jpg</td>\n",
       "      <td>1</td>\n",
       "      <td>(0.0, 1.0)</td>\n",
       "    </tr>\n",
       "  </tbody>\n",
       "</table>\n",
       "</div>"
      ],
      "text/plain": [
       "                                            uri  label one_hot_label\n",
       "0  flower_photos/tulips/10791227_7168491604.jpg      1    (0.0, 1.0)"
      ]
     },
     "execution_count": 19,
     "metadata": {},
     "output_type": "execute_result"
    }
   ],
   "source": [
    "train_df.limit(1).toPandas()"
   ]
  },
  {
   "cell_type": "code",
   "execution_count": 20,
   "metadata": {},
   "outputs": [
    {
     "name": "stdout",
     "output_type": "stream",
     "text": [
      "WARNING:tensorflow:From /private/var/folders/vm/tl51s8cd6x160xdb14hj7n1c0000gn/T/spark-9365f0fd-065b-4b45-a90f-741065177fe2/userFiles-0b99936d-2e9f-402b-b808-94dc22ea5530/databricks_spark-deep-learning-1.5.0-spark2.4-s_2.11.jar/sparkdl/transformers/keras_utils.py:37: The name tf.Session is deprecated. Please use tf.compat.v1.Session instead.\n",
      "\n",
      "WARNING:tensorflow:From /private/var/folders/vm/tl51s8cd6x160xdb14hj7n1c0000gn/T/spark-9365f0fd-065b-4b45-a90f-741065177fe2/userFiles-0b99936d-2e9f-402b-b808-94dc22ea5530/databricks_spark-deep-learning-1.5.0-spark2.4-s_2.11.jar/sparkdl/graph/utils.py:220: convert_variables_to_constants (from tensorflow.python.framework.graph_util_impl) is deprecated and will be removed in a future version.\n",
      "Instructions for updating:\n",
      "Use `tf.compat.v1.graph_util.convert_variables_to_constants`\n",
      "WARNING:tensorflow:From /Users/agnieszkabiernacka/.local/lib/python3.6/site-packages/tensorflow/python/framework/graph_util_impl.py:270: extract_sub_graph (from tensorflow.python.framework.graph_util_impl) is deprecated and will be removed in a future version.\n",
      "Instructions for updating:\n",
      "Use `tf.compat.v1.graph_util.extract_sub_graph`\n",
      "INFO:tensorflow:Froze 2 variables.\n",
      "INFO:tensorflow:Converted 2 variables to const ops.\n"
     ]
    },
    {
     "name": "stderr",
     "output_type": "stream",
     "text": [
      "/Users/agnieszkabiernacka/anaconda3/lib/python3.6/site-packages/keras/engine/saving.py:341: UserWarning: No training configuration found in save file: the model was *not* compiled. Compile it manually.\n",
      "  warnings.warn('No training configuration found in save file: '\n"
     ]
    },
    {
     "name": "stdout",
     "output_type": "stream",
     "text": [
      "WARNING:tensorflow:From /private/var/folders/vm/tl51s8cd6x160xdb14hj7n1c0000gn/T/spark-9365f0fd-065b-4b45-a90f-741065177fe2/userFiles-0b99936d-2e9f-402b-b808-94dc22ea5530/databricks_spark-deep-learning-1.5.0-spark2.4-s_2.11.jar/sparkdl/transformers/tf_image.py:180: The name tf.placeholder is deprecated. Please use tf.compat.v1.placeholder instead.\n",
      "\n",
      "INFO:tensorflow:Froze 0 variables.\n",
      "INFO:tensorflow:Converted 0 variables to const ops.\n",
      "WARNING:tensorflow:From /private/var/folders/vm/tl51s8cd6x160xdb14hj7n1c0000gn/T/spark-9365f0fd-065b-4b45-a90f-741065177fe2/userFiles-0b99936d-2e9f-402b-b808-94dc22ea5530/databricks_tensorframes-0.6.0-s_2.11.jar/tensorframes/core.py:101: The name tf.get_default_graph is deprecated. Please use tf.compat.v1.get_default_graph instead.\n",
      "\n",
      "WARNING:tensorflow:From /private/var/folders/vm/tl51s8cd6x160xdb14hj7n1c0000gn/T/spark-9365f0fd-065b-4b45-a90f-741065177fe2/userFiles-0b99936d-2e9f-402b-b808-94dc22ea5530/databricks_tensorframes-0.6.0-s_2.11.jar/tensorframes/core.py:44: The name tf.global_variables is deprecated. Please use tf.compat.v1.global_variables instead.\n",
      "\n",
      "WARNING:tensorflow:From /private/var/folders/vm/tl51s8cd6x160xdb14hj7n1c0000gn/T/spark-9365f0fd-065b-4b45-a90f-741065177fe2/userFiles-0b99936d-2e9f-402b-b808-94dc22ea5530/databricks_tensorframes-0.6.0-s_2.11.jar/tensorframes/core.py:62: The name tf.train.write_graph is deprecated. Please use tf.io.write_graph instead.\n",
      "\n",
      "INFO:tensorflow:Froze 2 variables.\n",
      "INFO:tensorflow:Converted 2 variables to const ops.\n",
      "INFO:tensorflow:Froze 0 variables.\n",
      "INFO:tensorflow:Converted 0 variables to const ops.\n",
      "INFO:tensorflow:Froze 2 variables.\n",
      "INFO:tensorflow:Converted 2 variables to const ops.\n",
      "INFO:tensorflow:Froze 0 variables.\n",
      "INFO:tensorflow:Converted 0 variables to const ops.\n",
      "INFO:tensorflow:Froze 2 variables.\n",
      "INFO:tensorflow:Converted 2 variables to const ops.\n",
      "INFO:tensorflow:Froze 0 variables.\n",
      "INFO:tensorflow:Converted 0 variables to const ops.\n"
     ]
    }
   ],
   "source": [
    "cvModel = cv.fit(train_df)"
   ]
  },
  {
   "cell_type": "code",
   "execution_count": 21,
   "metadata": {},
   "outputs": [
    {
     "name": "stdout",
     "output_type": "stream",
     "text": [
      "INFO:tensorflow:Froze 2 variables.\n",
      "INFO:tensorflow:Converted 2 variables to const ops.\n"
     ]
    },
    {
     "name": "stderr",
     "output_type": "stream",
     "text": [
      "/Users/agnieszkabiernacka/anaconda3/lib/python3.6/site-packages/keras/engine/saving.py:341: UserWarning: No training configuration found in save file: the model was *not* compiled. Compile it manually.\n",
      "  warnings.warn('No training configuration found in save file: '\n"
     ]
    },
    {
     "name": "stdout",
     "output_type": "stream",
     "text": [
      "INFO:tensorflow:Froze 0 variables.\n",
      "INFO:tensorflow:Converted 0 variables to const ops.\n"
     ]
    },
    {
     "data": {
      "text/html": [
       "<div>\n",
       "<style scoped>\n",
       "    .dataframe tbody tr th:only-of-type {\n",
       "        vertical-align: middle;\n",
       "    }\n",
       "\n",
       "    .dataframe tbody tr th {\n",
       "        vertical-align: top;\n",
       "    }\n",
       "\n",
       "    .dataframe thead th {\n",
       "        text-align: right;\n",
       "    }\n",
       "</style>\n",
       "<table border=\"1\" class=\"dataframe\">\n",
       "  <thead>\n",
       "    <tr style=\"text-align: right;\">\n",
       "      <th></th>\n",
       "      <th>uri</th>\n",
       "      <th>label</th>\n",
       "      <th>one_hot_label</th>\n",
       "      <th>prediction</th>\n",
       "    </tr>\n",
       "  </thead>\n",
       "  <tbody>\n",
       "    <tr>\n",
       "      <th>0</th>\n",
       "      <td>flower_photos/tulips/10791227_7168491604.jpg</td>\n",
       "      <td>1</td>\n",
       "      <td>(0.0, 1.0)</td>\n",
       "      <td>[1.0, 0.0]</td>\n",
       "    </tr>\n",
       "  </tbody>\n",
       "</table>\n",
       "</div>"
      ],
      "text/plain": [
       "                                            uri  label one_hot_label  \\\n",
       "0  flower_photos/tulips/10791227_7168491604.jpg      1    (0.0, 1.0)   \n",
       "\n",
       "   prediction  \n",
       "0  [1.0, 0.0]  "
      ]
     },
     "execution_count": 21,
     "metadata": {},
     "output_type": "execute_result"
    }
   ],
   "source": [
    "cvModel.transform(test_df).limit(1).toPandas()"
   ]
  },
  {
   "cell_type": "code",
   "execution_count": 22,
   "metadata": {},
   "outputs": [
    {
     "name": "stdout",
     "output_type": "stream",
     "text": [
      "INFO:tensorflow:Froze 2 variables.\n",
      "INFO:tensorflow:Converted 2 variables to const ops.\n",
      "INFO:tensorflow:Froze 0 variables.\n",
      "INFO:tensorflow:Converted 0 variables to const ops.\n"
     ]
    },
    {
     "name": "stderr",
     "output_type": "stream",
     "text": [
      "/Users/agnieszkabiernacka/anaconda3/lib/python3.6/site-packages/keras/engine/saving.py:341: UserWarning: No training configuration found in save file: the model was *not* compiled. Compile it manually.\n",
      "  warnings.warn('No training configuration found in save file: '\n"
     ]
    },
    {
     "data": {
      "text/plain": [
       "0.0"
      ]
     },
     "execution_count": 22,
     "metadata": {},
     "output_type": "execute_result"
    }
   ],
   "source": [
    "bc.evaluate(cvModel.transform(test_df))"
   ]
  },
  {
   "cell_type": "code",
   "execution_count": null,
   "metadata": {
    "collapsed": true
   },
   "outputs": [],
   "source": []
  }
 ],
 "metadata": {
  "kernelspec": {
   "display_name": "Python 3",
   "language": "python",
   "name": "python3"
  },
  "language_info": {
   "codemirror_mode": {
    "name": "ipython",
    "version": 3
   },
   "file_extension": ".py",
   "mimetype": "text/x-python",
   "name": "python",
   "nbconvert_exporter": "python",
   "pygments_lexer": "ipython3",
   "version": "3.6.3"
  }
 },
 "nbformat": 4,
 "nbformat_minor": 2
}
