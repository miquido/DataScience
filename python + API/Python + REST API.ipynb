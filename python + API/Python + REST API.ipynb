{
 "cells": [
  {
   "cell_type": "markdown",
   "metadata": {},
   "source": [
    "# Using \"requests\" package:"
   ]
  },
  {
   "cell_type": "markdown",
   "metadata": {},
   "source": [
    "See also: http://docs.python-requests.org/en/master/user/quickstart/"
   ]
  },
  {
   "cell_type": "code",
   "execution_count": 1,
   "metadata": {
    "collapsed": true
   },
   "outputs": [],
   "source": [
    "import requests\n",
    "url = 'https://httpbin.org/anything'\n",
    "data = '''{\n",
    "  \"query\": {\n",
    "    \"bool\": {\n",
    "      \"must\": [\n",
    "        {\n",
    "          \"text\": {\n",
    "            \"record.document\": \"SOME_JOURNAL\"\n",
    "          }\n",
    "        },\n",
    "        {\n",
    "          \"text\": {\n",
    "            \"record.articleTitle\": \"farmers\"\n",
    "          }\n",
    "        }\n",
    "      ],\n",
    "      \"must_not\": [],\n",
    "      \"should\": []\n",
    "    }\n",
    "  },\n",
    "  \"from\": 0,\n",
    "  \"size\": 50,\n",
    "  \"sort\": [],\n",
    "  \"facets\": {}\n",
    "}'''\n",
    "response = requests.post(url, data=data)"
   ]
  },
  {
   "cell_type": "code",
   "execution_count": 3,
   "metadata": {},
   "outputs": [
    {
     "data": {
      "text/plain": [
       "{'args': {},\n",
       " 'data': '{\\n  \"query\": {\\n    \"bool\": {\\n      \"must\": [\\n        {\\n          \"text\": {\\n            \"record.document\": \"SOME_JOURNAL\"\\n          }\\n        },\\n        {\\n          \"text\": {\\n            \"record.articleTitle\": \"farmers\"\\n          }\\n        }\\n      ],\\n      \"must_not\": [],\\n      \"should\": []\\n    }\\n  },\\n  \"from\": 0,\\n  \"size\": 50,\\n  \"sort\": [],\\n  \"facets\": {}\\n}',\n",
       " 'files': {},\n",
       " 'form': {},\n",
       " 'headers': {'Accept': '*/*',\n",
       "  'Accept-Encoding': 'gzip, deflate',\n",
       "  'Connection': 'close',\n",
       "  'Content-Length': '359',\n",
       "  'Host': 'httpbin.org',\n",
       "  'User-Agent': 'python-requests/2.18.4'},\n",
       " 'json': {'facets': {},\n",
       "  'from': 0,\n",
       "  'query': {'bool': {'must': [{'text': {'record.document': 'SOME_JOURNAL'}},\n",
       "     {'text': {'record.articleTitle': 'farmers'}}],\n",
       "    'must_not': [],\n",
       "    'should': []}},\n",
       "  'size': 50,\n",
       "  'sort': []},\n",
       " 'method': 'POST',\n",
       " 'origin': '93.180.179.112',\n",
       " 'url': 'https://httpbin.org/anything'}"
      ]
     },
     "execution_count": 3,
     "metadata": {},
     "output_type": "execute_result"
    }
   ],
   "source": [
    "response.json()"
   ]
  },
  {
   "cell_type": "code",
   "execution_count": 9,
   "metadata": {},
   "outputs": [
    {
     "data": {
      "text/plain": [
       "50"
      ]
     },
     "execution_count": 9,
     "metadata": {},
     "output_type": "execute_result"
    }
   ],
   "source": [
    "#Data could be loaded to object\n",
    "import json\n",
    "x = json.loads(response.json()['data'])\n",
    "x['size']"
   ]
  },
  {
   "cell_type": "code",
   "execution_count": 12,
   "metadata": {},
   "outputs": [
    {
     "data": {
      "text/plain": [
       "{'args': {},\n",
       " 'data': '',\n",
       " 'files': {},\n",
       " 'form': {},\n",
       " 'headers': {'Accept': '*/*',\n",
       "  'Accept-Encoding': 'gzip, deflate',\n",
       "  'Connection': 'close',\n",
       "  'Host': 'httpbin.org',\n",
       "  'User-Agent': 'my-app/0.0.1'},\n",
       " 'json': None,\n",
       " 'method': 'GET',\n",
       " 'origin': '93.180.179.112',\n",
       " 'url': 'https://httpbin.org/anything/endpoint'}"
      ]
     },
     "execution_count": 12,
     "metadata": {},
     "output_type": "execute_result"
    }
   ],
   "source": [
    "url = 'https://httpbin.org/anything/endpoint'\n",
    "headers = {'user-agent': 'my-app/0.0.1'}\n",
    "\n",
    "response = requests.get(url, headers=headers)\n",
    "response.json()"
   ]
  },
  {
   "cell_type": "code",
   "execution_count": null,
   "metadata": {
    "collapsed": true
   },
   "outputs": [],
   "source": []
  }
 ],
 "metadata": {
  "kernelspec": {
   "display_name": "Python 3",
   "language": "python",
   "name": "python3"
  },
  "language_info": {
   "codemirror_mode": {
    "name": "ipython",
    "version": 3
   },
   "file_extension": ".py",
   "mimetype": "text/x-python",
   "name": "python",
   "nbconvert_exporter": "python",
   "pygments_lexer": "ipython3",
   "version": "3.6.3"
  }
 },
 "nbformat": 4,
 "nbformat_minor": 2
}
