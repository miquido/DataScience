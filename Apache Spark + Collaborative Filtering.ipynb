{
 "cells": [
  {
   "cell_type": "markdown",
   "metadata": {},
   "source": [
    "Install Apache Spark:"
   ]
  },
  {
   "cell_type": "markdown",
   "metadata": {},
   "source": [
    "$ pip install pyspark"
   ]
  },
  {
   "cell_type": "markdown",
   "metadata": {},
   "source": [
    "Initialize spark session:"
   ]
  },
  {
   "cell_type": "code",
   "execution_count": 2,
   "metadata": {
    "collapsed": true
   },
   "outputs": [],
   "source": [
    "from pyspark.context import SparkContext\n",
    "from pyspark.sql.session import SparkSession\n",
    "\n",
    "sc = SparkContext('local')\n",
    "spark = SparkSession(sc)"
   ]
  },
  {
   "cell_type": "markdown",
   "metadata": {},
   "source": [
    "File \"sample_movielens_ratings.txt\" contains rows with content:\n",
    "userId::movieId::rating::timestamp\n",
    "\n",
    "For 29::9::1::1424380312 example:\n",
    "userId=29\n",
    "movieId=9\n",
    "rating=1\n",
    "timestamp=1424380312"
   ]
  },
  {
   "cell_type": "markdown",
   "metadata": {},
   "source": [
    "Read and parse dataset:"
   ]
  },
  {
   "cell_type": "code",
   "execution_count": 6,
   "metadata": {},
   "outputs": [],
   "source": [
    "from pyspark.ml.evaluation import RegressionEvaluator\n",
    "from pyspark.ml.recommendation import ALS\n",
    "from pyspark.sql import Row\n",
    "\n",
    "lines = spark.read.text(\"sample_movielens_ratings.txt\").rdd\n",
    "parts = lines.map(lambda row: row.value.split(\"::\"))\n",
    "ratingsRDD = parts.map(lambda p: Row(userId=int(p[0]), movieId=int(p[1]),\n",
    "                                     rating=float(p[2]), timestamp=float(p[3])))\n",
    "ratings = spark.createDataFrame(ratingsRDD)"
   ]
  },
  {
   "cell_type": "code",
   "execution_count": 7,
   "metadata": {
    "collapsed": true
   },
   "outputs": [],
   "source": [
    "#Split dataset to training and test:\n",
    "(training, test) = ratings.randomSplit([0.8, 0.2])"
   ]
  },
  {
   "cell_type": "markdown",
   "metadata": {},
   "source": [
    "Important features while using ALS:\n",
    "- userCol - column with user id identifier\n",
    "- itemCol - column with identifier of an object\n",
    "- ratingCol - column of rating, this could be explicite rating or implicite (for example kind of behaviour), in this second case implicitPrefs=True should be use for better results\n",
    "- coldStartStrategy - strategy for cold start problem, there are 2 solutions in Apache: drop - drop nan values, and nan - return nan values, other strategies are in development"
   ]
  },
  {
   "cell_type": "code",
   "execution_count": 8,
   "metadata": {
    "collapsed": true
   },
   "outputs": [],
   "source": [
    "# Build the recommendation model using ALS on the training data\n",
    "# Note we set cold start strategy to 'drop' to ensure we don't get NaN evaluation metrics\n",
    "als = ALS(maxIter=5, regParam=0.01, userCol=\"userId\", itemCol=\"movieId\", ratingCol=\"rating\",\n",
    "          coldStartStrategy=\"drop\")\n",
    "model = als.fit(training)"
   ]
  },
  {
   "cell_type": "code",
   "execution_count": 9,
   "metadata": {},
   "outputs": [
    {
     "name": "stdout",
     "output_type": "stream",
     "text": [
      "Root-mean-square error = 1.7991273222740998\n"
     ]
    }
   ],
   "source": [
    "# Evaluate the model by computing the RMSE on the test data\n",
    "predictions = model.transform(test)\n",
    "evaluator = RegressionEvaluator(metricName=\"rmse\", labelCol=\"rating\",\n",
    "                                predictionCol=\"prediction\")\n",
    "rmse = evaluator.evaluate(predictions)\n",
    "print(\"Root-mean-square error = \" + str(rmse))"
   ]
  },
  {
   "cell_type": "code",
   "execution_count": 17,
   "metadata": {},
   "outputs": [
    {
     "data": {
      "text/html": [
       "<div>\n",
       "<style scoped>\n",
       "    .dataframe tbody tr th:only-of-type {\n",
       "        vertical-align: middle;\n",
       "    }\n",
       "\n",
       "    .dataframe tbody tr th {\n",
       "        vertical-align: top;\n",
       "    }\n",
       "\n",
       "    .dataframe thead th {\n",
       "        text-align: right;\n",
       "    }\n",
       "</style>\n",
       "<table border=\"1\" class=\"dataframe\">\n",
       "  <thead>\n",
       "    <tr style=\"text-align: right;\">\n",
       "      <th></th>\n",
       "      <th>userId</th>\n",
       "      <th>recommendations</th>\n",
       "    </tr>\n",
       "  </thead>\n",
       "  <tbody>\n",
       "    <tr>\n",
       "      <th>0</th>\n",
       "      <td>28</td>\n",
       "      <td>[(85, 5.939967155456543), (92, 5.1181178092956...</td>\n",
       "    </tr>\n",
       "    <tr>\n",
       "      <th>1</th>\n",
       "      <td>26</td>\n",
       "      <td>[(62, 5.905642986297607), (32, 5.5628299713134...</td>\n",
       "    </tr>\n",
       "    <tr>\n",
       "      <th>2</th>\n",
       "      <td>27</td>\n",
       "      <td>[(85, 5.086740016937256), (34, 4.4568171501159...</td>\n",
       "    </tr>\n",
       "  </tbody>\n",
       "</table>\n",
       "</div>"
      ],
      "text/plain": [
       "   userId                                    recommendations\n",
       "0      28  [(85, 5.939967155456543), (92, 5.1181178092956...\n",
       "1      26  [(62, 5.905642986297607), (32, 5.5628299713134...\n",
       "2      27  [(85, 5.086740016937256), (34, 4.4568171501159..."
      ]
     },
     "execution_count": 17,
     "metadata": {},
     "output_type": "execute_result"
    }
   ],
   "source": [
    "# Generate top 10 movie recommendations for each user\n",
    "userRecs = model.recommendForAllUsers(10)\n",
    "userRecs.toPandas().head(3)"
   ]
  },
  {
   "cell_type": "code",
   "execution_count": 18,
   "metadata": {},
   "outputs": [
    {
     "data": {
      "text/html": [
       "<div>\n",
       "<style scoped>\n",
       "    .dataframe tbody tr th:only-of-type {\n",
       "        vertical-align: middle;\n",
       "    }\n",
       "\n",
       "    .dataframe tbody tr th {\n",
       "        vertical-align: top;\n",
       "    }\n",
       "\n",
       "    .dataframe thead th {\n",
       "        text-align: right;\n",
       "    }\n",
       "</style>\n",
       "<table border=\"1\" class=\"dataframe\">\n",
       "  <thead>\n",
       "    <tr style=\"text-align: right;\">\n",
       "      <th></th>\n",
       "      <th>movieId</th>\n",
       "      <th>recommendations</th>\n",
       "    </tr>\n",
       "  </thead>\n",
       "  <tbody>\n",
       "    <tr>\n",
       "      <th>0</th>\n",
       "      <td>31</td>\n",
       "      <td>[(20, 4.2785234451293945), (12, 3.455365180969...</td>\n",
       "    </tr>\n",
       "    <tr>\n",
       "      <th>1</th>\n",
       "      <td>85</td>\n",
       "      <td>[(28, 5.939967155456543), (27, 5.0867400169372...</td>\n",
       "    </tr>\n",
       "    <tr>\n",
       "      <th>2</th>\n",
       "      <td>65</td>\n",
       "      <td>[(11, 3.328084945678711), (20, 1.9836831092834...</td>\n",
       "    </tr>\n",
       "  </tbody>\n",
       "</table>\n",
       "</div>"
      ],
      "text/plain": [
       "   movieId                                    recommendations\n",
       "0       31  [(20, 4.2785234451293945), (12, 3.455365180969...\n",
       "1       85  [(28, 5.939967155456543), (27, 5.0867400169372...\n",
       "2       65  [(11, 3.328084945678711), (20, 1.9836831092834..."
      ]
     },
     "execution_count": 18,
     "metadata": {},
     "output_type": "execute_result"
    }
   ],
   "source": [
    "# Generate top 10 user recommendations for each movie\n",
    "movieRecs = model.recommendForAllItems(10)\n",
    "movieRecs.toPandas().head(3)"
   ]
  },
  {
   "cell_type": "code",
   "execution_count": 33,
   "metadata": {},
   "outputs": [
    {
     "data": {
      "text/plain": [
       "[Row(userId=28, movieId=[85, 92, 81, 12, 2, 89, 82, 47, 76, 11]),\n",
       " Row(userId=26, movieId=[62, 32, 7, 94, 23, 24, 22, 64, 60, 75]),\n",
       " Row(userId=27, movieId=[85, 34, 47, 80, 51, 33, 75, 19, 27, 83]),\n",
       " Row(userId=12, movieId=[46, 17, 64, 27, 30, 22, 32, 68, 16, 36]),\n",
       " Row(userId=22, movieId=[22, 94, 74, 30, 75, 51, 46, 7, 32, 62]),\n",
       " Row(userId=1, movieId=[55, 17, 83, 64, 68, 10, 46, 66, 8, 85]),\n",
       " Row(userId=13, movieId=[39, 93, 70, 83, 29, 72, 74, 8, 77, 53]),\n",
       " Row(userId=6, movieId=[34, 83, 64, 41, 47, 43, 74, 63, 67, 85]),\n",
       " Row(userId=16, movieId=[19, 51, 90, 54, 75, 71, 29, 27, 58, 47]),\n",
       " Row(userId=3, movieId=[51, 75, 22, 27, 80, 85, 77, 88, 39, 83]),\n",
       " Row(userId=20, movieId=[27, 52, 22, 30, 31, 17, 77, 96, 88, 53]),\n",
       " Row(userId=5, movieId=[17, 55, 27, 90, 30, 10, 46, 49, 68, 32]),\n",
       " Row(userId=19, movieId=[46, 90, 94, 98, 71, 74, 51, 54, 30, 19]),\n",
       " Row(userId=15, movieId=[46, 1, 53, 4, 3, 74, 31, 61, 98, 77]),\n",
       " Row(userId=17, movieId=[90, 46, 55, 17, 94, 30, 68, 32, 10, 64]),\n",
       " Row(userId=9, movieId=[49, 18, 7, 32, 87, 79, 47, 67, 43, 27]),\n",
       " Row(userId=4, movieId=[41, 52, 70, 72, 93, 83, 64, 87, 63, 40]),\n",
       " Row(userId=8, movieId=[51, 52, 29, 85, 53, 22, 75, 62, 58, 95]),\n",
       " Row(userId=23, movieId=[55, 49, 27, 96, 32, 17, 90, 30, 52, 23]),\n",
       " Row(userId=7, movieId=[85, 47, 34, 52, 62, 87, 29, 41, 76, 39]),\n",
       " Row(userId=10, movieId=[64, 85, 46, 62, 12, 81, 47, 11, 40, 23]),\n",
       " Row(userId=25, movieId=[47, 33, 46, 71, 90, 91, 16, 1, 82, 12]),\n",
       " Row(userId=24, movieId=[52, 90, 30, 55, 72, 63, 17, 70, 27, 9]),\n",
       " Row(userId=29, movieId=[46, 90, 23, 32, 10, 94, 17, 54, 68, 49]),\n",
       " Row(userId=21, movieId=[29, 47, 52, 87, 34, 18, 2, 93, 90, 63]),\n",
       " Row(userId=11, movieId=[53, 46, 77, 18, 93, 48, 23, 29, 74, 27]),\n",
       " Row(userId=14, movieId=[52, 29, 87, 18, 62, 49, 96, 90, 47, 70]),\n",
       " Row(userId=2, movieId=[72, 93, 8, 83, 41, 39, 70, 40, 74, 89]),\n",
       " Row(userId=0, movieId=[39, 2, 77, 85, 89, 52, 8, 92, 88, 83]),\n",
       " Row(userId=18, movieId=[88, 83, 85, 39, 89, 24, 8, 11, 77, 61])]"
      ]
     },
     "execution_count": 33,
     "metadata": {},
     "output_type": "execute_result"
    }
   ],
   "source": [
    "recommendations_for_users = userRecs.select(\"userId\", \"recommendations.movieId\")\n",
    "recommendations_for_users.collect()"
   ]
  },
  {
   "cell_type": "code",
   "execution_count": 38,
   "metadata": {},
   "outputs": [
    {
     "data": {
      "text/plain": [
       "['{\"userId\":28,\"movieId\":[85,92,81,12,2,89,82,47,76,11]}',\n",
       " '{\"userId\":26,\"movieId\":[62,32,7,94,23,24,22,64,60,75]}',\n",
       " '{\"userId\":27,\"movieId\":[85,34,47,80,51,33,75,19,27,83]}',\n",
       " '{\"userId\":12,\"movieId\":[46,17,64,27,30,22,32,68,16,36]}',\n",
       " '{\"userId\":22,\"movieId\":[22,94,74,30,75,51,46,7,32,62]}',\n",
       " '{\"userId\":1,\"movieId\":[55,17,83,64,68,10,46,66,8,85]}',\n",
       " '{\"userId\":13,\"movieId\":[39,93,70,83,29,72,74,8,77,53]}',\n",
       " '{\"userId\":6,\"movieId\":[34,83,64,41,47,43,74,63,67,85]}',\n",
       " '{\"userId\":16,\"movieId\":[19,51,90,54,75,71,29,27,58,47]}',\n",
       " '{\"userId\":3,\"movieId\":[51,75,22,27,80,85,77,88,39,83]}',\n",
       " '{\"userId\":20,\"movieId\":[27,52,22,30,31,17,77,96,88,53]}',\n",
       " '{\"userId\":5,\"movieId\":[17,55,27,90,30,10,46,49,68,32]}',\n",
       " '{\"userId\":19,\"movieId\":[46,90,94,98,71,74,51,54,30,19]}',\n",
       " '{\"userId\":15,\"movieId\":[46,1,53,4,3,74,31,61,98,77]}',\n",
       " '{\"userId\":17,\"movieId\":[90,46,55,17,94,30,68,32,10,64]}',\n",
       " '{\"userId\":9,\"movieId\":[49,18,7,32,87,79,47,67,43,27]}',\n",
       " '{\"userId\":4,\"movieId\":[41,52,70,72,93,83,64,87,63,40]}',\n",
       " '{\"userId\":8,\"movieId\":[51,52,29,85,53,22,75,62,58,95]}',\n",
       " '{\"userId\":23,\"movieId\":[55,49,27,96,32,17,90,30,52,23]}',\n",
       " '{\"userId\":7,\"movieId\":[85,47,34,52,62,87,29,41,76,39]}',\n",
       " '{\"userId\":10,\"movieId\":[64,85,46,62,12,81,47,11,40,23]}',\n",
       " '{\"userId\":25,\"movieId\":[47,33,46,71,90,91,16,1,82,12]}',\n",
       " '{\"userId\":24,\"movieId\":[52,90,30,55,72,63,17,70,27,9]}',\n",
       " '{\"userId\":29,\"movieId\":[46,90,23,32,10,94,17,54,68,49]}',\n",
       " '{\"userId\":21,\"movieId\":[29,47,52,87,34,18,2,93,90,63]}',\n",
       " '{\"userId\":11,\"movieId\":[53,46,77,18,93,48,23,29,74,27]}',\n",
       " '{\"userId\":14,\"movieId\":[52,29,87,18,62,49,96,90,47,70]}',\n",
       " '{\"userId\":2,\"movieId\":[72,93,8,83,41,39,70,40,74,89]}',\n",
       " '{\"userId\":0,\"movieId\":[39,2,77,85,89,52,8,92,88,83]}',\n",
       " '{\"userId\":18,\"movieId\":[88,83,85,39,89,24,8,11,77,61]}']"
      ]
     },
     "execution_count": 38,
     "metadata": {},
     "output_type": "execute_result"
    }
   ],
   "source": [
    "json_rdd = recommendations_for_users.toJSON()\n",
    "json_rdd.collect()"
   ]
  }
 ],
 "metadata": {
  "kernelspec": {
   "display_name": "Python 3",
   "language": "python",
   "name": "python3"
  },
  "language_info": {
   "codemirror_mode": {
    "name": "ipython",
    "version": 3
   },
   "file_extension": ".py",
   "mimetype": "text/x-python",
   "name": "python",
   "nbconvert_exporter": "python",
   "pygments_lexer": "ipython3",
   "version": "3.6.3"
  }
 },
 "nbformat": 4,
 "nbformat_minor": 2
}
